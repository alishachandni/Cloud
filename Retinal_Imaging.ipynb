{
  "nbformat": 4,
  "nbformat_minor": 0,
  "metadata": {
    "colab": {
      "provenance": [],
      "gpuType": "T4",
      "authorship_tag": "ABX9TyPCZUgiJOmezqP9T6wYlU53",
      "include_colab_link": true
    },
    "kernelspec": {
      "name": "python3",
      "display_name": "Python 3"
    },
    "language_info": {
      "name": "python"
    },
    "accelerator": "GPU"
  },
  "cells": [
    {
      "cell_type": "markdown",
      "metadata": {
        "id": "view-in-github",
        "colab_type": "text"
      },
      "source": [
        "<a href=\"https://colab.research.google.com/github/alishachandni/Cloud/blob/main/Retinal_Imaging.ipynb\" target=\"_parent\"><img src=\"https://colab.research.google.com/assets/colab-badge.svg\" alt=\"Open In Colab\"/></a>"
      ]
    },
    {
      "cell_type": "code",
      "execution_count": null,
      "metadata": {
        "id": "yqarBawgRnXt"
      },
      "outputs": [],
      "source": [
        "import torch\n",
        "import torch.nn as nn\n",
        "import torch.optim as optim\n",
        "import matplotlib.pyplot as plt\n",
        "from sklearn.metrics import roc_curve, auc, precision_recall_curve\n",
        "from torch.utils.data import DataLoader\n",
        "from torchvision import datasets, transforms\n",
        "from torchvision.utils import save_image\n",
        "from google.colab import drive"
      ]
    },
    {
      "cell_type": "code",
      "source": [
        "# Mount Google Drive\n",
        "drive.mount('/content/drive')"
      ],
      "metadata": {
        "id": "V_jwKo0JSmME",
        "colab": {
          "base_uri": "https://localhost:8080/"
        },
        "outputId": "df74e910-e74e-4400-88c3-47cc613a3720"
      },
      "execution_count": null,
      "outputs": [
        {
          "output_type": "stream",
          "name": "stdout",
          "text": [
            "Mounted at /content/drive\n"
          ]
        }
      ]
    },
    {
      "cell_type": "code",
      "source": [
        "# Define paths\n",
        "dataset_path = '/content/drive/MyDrive/Final Project/Retina/retina'"
      ],
      "metadata": {
        "id": "h9CdHmyWSmIe"
      },
      "execution_count": null,
      "outputs": []
    },
    {
      "cell_type": "code",
      "source": [
        "# Hyperparameters\n",
        "batch_size = 32\n",
        "image_size = 128  # Adjusted for higher resolution\n",
        "latent_dim = 100\n",
        "epochs = 20\n",
        "lr = 0.0002\n",
        "beta1 = 0.5"
      ],
      "metadata": {
        "id": "vTrdhU-eSmFV"
      },
      "execution_count": null,
      "outputs": []
    },
    {
      "cell_type": "code",
      "source": [
        "# Data preprocessing and augmentation\n",
        "transform = transforms.Compose([\n",
        "    transforms.Resize((image_size, image_size)),\n",
        "    transforms.ToTensor(),\n",
        "    transforms.Normalize([0.5], [0.5])  # Normalize to [-1, 1]\n",
        "])"
      ],
      "metadata": {
        "id": "5M8TEEGDSmBj"
      },
      "execution_count": null,
      "outputs": []
    },
    {
      "cell_type": "code",
      "source": [
        "# Load dataset\n",
        "dataset = datasets.ImageFolder(root=dataset_path, transform=transform)\n",
        "dataloader = DataLoader(dataset, batch_size=batch_size, shuffle=True)"
      ],
      "metadata": {
        "id": "vsGf4AlTTE1X"
      },
      "execution_count": null,
      "outputs": []
    },
    {
      "cell_type": "code",
      "source": [
        "# LSTM-GAN Generator model\n",
        "class Generator(nn.Module):\n",
        "    def __init__(self):\n",
        "        super(Generator, self).__init__()\n",
        "        self.lstm = nn.LSTM(latent_dim, 256, batch_first=True)\n",
        "        self.fc = nn.Sequential(\n",
        "            nn.Linear(256, 512),\n",
        "            nn.ReLU(True),\n",
        "            nn.Linear(512, 1024),\n",
        "            nn.ReLU(True),\n",
        "            nn.Linear(1024, image_size * image_size * 3),  # 3 channels for RGB\n",
        "            nn.Tanh()\n",
        "        )\n",
        "\n",
        "    def forward(self, z):\n",
        "        lstm_out, _ = self.lstm(z.unsqueeze(1))\n",
        "        img = self.fc(lstm_out[:, -1, :])\n",
        "        return img.view(img.size(0), 3, image_size, image_size)"
      ],
      "metadata": {
        "id": "7_kQFL8KTIRN"
      },
      "execution_count": null,
      "outputs": []
    },
    {
      "cell_type": "code",
      "source": [
        "# LSTM-GAN Discriminator model\n",
        "class Discriminator(nn.Module):\n",
        "    def __init__(self):\n",
        "        super(Discriminator, self).__init__()\n",
        "        self.lstm = nn.LSTM(image_size * image_size * 3, 256, batch_first=True)\n",
        "        self.fc = nn.Sequential(\n",
        "            nn.Linear(256, 1),\n",
        "            nn.Sigmoid()\n",
        "        )\n",
        "\n",
        "    def forward(self, img):\n",
        "        img_flat = img.view(img.size(0), 1, -1)\n",
        "        lstm_out, _ = self.lstm(img_flat)\n",
        "        validity = self.fc(lstm_out[:, -1, :])\n",
        "        return validity"
      ],
      "metadata": {
        "id": "AT8EWHkvTINw"
      },
      "execution_count": null,
      "outputs": []
    },
    {
      "cell_type": "code",
      "source": [
        "# Initialize models\n",
        "generator = Generator().cuda()\n",
        "discriminator = Discriminator().cuda()"
      ],
      "metadata": {
        "id": "3wVAzRUcTIKf"
      },
      "execution_count": null,
      "outputs": []
    },
    {
      "cell_type": "code",
      "source": [
        "# Loss and optimizers\n",
        "adversarial_loss = nn.BCELoss()\n",
        "optimizer_G = optim.Adam(generator.parameters(), lr=lr, betas=(beta1, 0.999))\n",
        "optimizer_D = optim.Adam(discriminator.parameters(), lr=lr, betas=(beta1, 0.999))"
      ],
      "metadata": {
        "id": "IJivKYIiTkm3"
      },
      "execution_count": null,
      "outputs": []
    },
    {
      "cell_type": "code",
      "source": [
        "# Tracking losses\n",
        "d_losses, g_losses = [], []\n",
        "y_true, y_scores = [], []"
      ],
      "metadata": {
        "id": "G7PmbU_4TkjX"
      },
      "execution_count": null,
      "outputs": []
    },
    {
      "cell_type": "code",
      "source": [
        "# Training loop\n",
        "for epoch in range(epochs):\n",
        "    for i, (imgs, _) in enumerate(dataloader):\n",
        "        # Real and fake labels\n",
        "        real_labels = torch.ones(imgs.size(0), 1).cuda()\n",
        "        fake_labels = torch.zeros(imgs.size(0), 1).cuda()\n",
        "\n",
        "        # Train Discriminator\n",
        "        imgs = imgs.cuda()\n",
        "        optimizer_D.zero_grad()\n",
        "        outputs = discriminator(imgs)\n",
        "        d_loss_real = adversarial_loss(outputs, real_labels)\n",
        "\n",
        "        z = torch.randn(imgs.size(0), latent_dim).cuda()\n",
        "        fake_imgs = generator(z)\n",
        "        outputs = discriminator(fake_imgs.detach())\n",
        "        d_loss_fake = adversarial_loss(outputs, fake_labels)\n",
        "\n",
        "        d_loss = d_loss_real + d_loss_fake\n",
        "        d_loss.backward()\n",
        "        optimizer_D.step()\n",
        "        d_losses.append(d_loss.item())\n",
        "\n",
        "        # Train Generator\n",
        "        optimizer_G.zero_grad()\n",
        "        outputs = discriminator(fake_imgs)\n",
        "        g_loss = adversarial_loss(outputs, real_labels)\n",
        "        g_loss.backward()\n",
        "        optimizer_G.step()\n",
        "        g_losses.append(g_loss.item())\n",
        "\n",
        "        y_true.extend(real_labels.cpu().detach().numpy())\n",
        "        y_scores.extend(outputs.cpu().detach().numpy())\n",
        "\n",
        "        # Print progress\n",
        "        if i % 50 == 0:\n",
        "            print(f\"[Epoch {epoch+1}/{epochs}] [Batch {i}/{len(dataloader)}] [D loss: {d_loss.item()}] [G loss: {g_loss.item()}]\")\n",
        "\n",
        "    # Save generated samples\n",
        "    if (epoch + 1) % 10 == 0:\n",
        "        save_image(fake_imgs.data[:25], f\"/content/drive/MyDrive/Final Project/generated_retinal_samples_epoch_{epoch+1}.png\", nrow=5, normalize=True)"
      ],
      "metadata": {
        "id": "fHrJ9Pi8TkgQ",
        "colab": {
          "base_uri": "https://localhost:8080/"
        },
        "outputId": "4f94c0ac-29c4-476c-8ce3-a2749f55e35f"
      },
      "execution_count": null,
      "outputs": [
        {
          "output_type": "stream",
          "name": "stdout",
          "text": [
            "[Epoch 1/20] [Batch 0/100] [D loss: 1.4012980461120605] [G loss: 0.7885439395904541]\n",
            "[Epoch 1/20] [Batch 50/100] [D loss: 0.39675450325012207] [G loss: 1.2172175645828247]\n",
            "[Epoch 2/20] [Batch 0/100] [D loss: 0.3868003785610199] [G loss: 1.2638144493103027]\n",
            "[Epoch 2/20] [Batch 50/100] [D loss: 0.3250505328178406] [G loss: 1.4062888622283936]\n",
            "[Epoch 3/20] [Batch 0/100] [D loss: 0.23067089915275574] [G loss: 1.6374642848968506]\n",
            "[Epoch 3/20] [Batch 50/100] [D loss: 0.19621486961841583] [G loss: 1.8427133560180664]\n",
            "[Epoch 4/20] [Batch 0/100] [D loss: 0.22486773133277893] [G loss: 1.6726797819137573]\n"
          ]
        }
      ]
    },
    {
      "cell_type": "code",
      "source": [
        "# Compute sensitivity and specificity\n",
        "fpr, tpr, _ = roc_curve(y_true, y_scores)\n",
        "roc_auc = auc(fpr, tpr)\n",
        "precision, recall, _ = precision_recall_curve(y_true, y_scores)"
      ],
      "metadata": {
        "id": "ewl0T_yhTkND"
      },
      "execution_count": null,
      "outputs": []
    },
    {
      "cell_type": "code",
      "source": [
        "# Plot ROC Curve\n",
        "plt.figure()\n",
        "plt.plot(fpr, tpr, label=f'ROC curve (area = {roc_auc:.2f}')\n",
        "plt.xlabel('False Positive Rate')\n",
        "plt.ylabel('True Positive Rate')\n",
        "plt.title('ROC Curve')\n",
        "plt.legend(loc='lower right')\n",
        "plt.show()"
      ],
      "metadata": {
        "id": "4AADoXj9Udxb"
      },
      "execution_count": null,
      "outputs": []
    },
    {
      "cell_type": "code",
      "source": [
        "# Plot Precision-Recall Curve\n",
        "plt.figure()\n",
        "plt.plot(recall, precision, label='Precision-Recall Curve')\n",
        "plt.xlabel('Recall')\n",
        "plt.ylabel('Precision')\n",
        "plt.title('Precision-Recall Curve')\n",
        "plt.legend(loc='lower left')\n",
        "plt.show()"
      ],
      "metadata": {
        "id": "9FiYRZ7rUdt-"
      },
      "execution_count": null,
      "outputs": []
    },
    {
      "cell_type": "code",
      "source": [
        "# Plot Losses\n",
        "plt.figure()\n",
        "plt.plot(d_losses, label='Discriminator Loss')\n",
        "plt.plot(g_losses, label='Generator Loss')\n",
        "plt.xlabel('Iterations')\n",
        "plt.ylabel('Loss')\n",
        "plt.title('Loss Curves')\n",
        "plt.legend()\n",
        "plt.show()"
      ],
      "metadata": {
        "id": "IrhzF1RdUdqt"
      },
      "execution_count": null,
      "outputs": []
    },
    {
      "cell_type": "code",
      "source": [
        "print(\"Training complete. Check generated samples and graphs in Google Drive.\")"
      ],
      "metadata": {
        "id": "AUAlI2lJUpnR"
      },
      "execution_count": null,
      "outputs": []
    }
  ]
}